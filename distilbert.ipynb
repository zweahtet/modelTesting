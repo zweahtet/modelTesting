{
 "cells": [
  {
   "cell_type": "code",
   "execution_count": null,
   "metadata": {},
   "outputs": [],
   "source": [
    "from transformers import pipeline\n",
    "question_answerer = pipeline(\"question-answering\", model='distilbert-base-cased-distilled-squad')"
   ]
  },
  {
   "cell_type": "code",
   "execution_count": null,
   "metadata": {},
   "outputs": [],
   "source": [
    "context = r\"\"\"Chapter 17.5. Lead and Copper, \n",
    "Article 7. Public Education Program for Lead Action Level Exceedances, \n",
    "§ 64690.80. Recordkeeping. Any system subject to the requirements of this \n",
    "chapter shall retain on its premises original records of all sampling data \n",
    "and analyses, reports, surveys, letters, evaluations, schedules, Department \n",
    "determinations, and any other information required by this chapter. Each water \n",
    "system shall retain the records required by this section for no fewer than 12 \n",
    "years or two compliance cycles (as defined in Section 64400.20), whichever is longer.\"\"\""
   ]
  },
  {
   "cell_type": "code",
   "execution_count": null,
   "metadata": {},
   "outputs": [],
   "source": [
    "result = question_answerer(question=\"what is the chapter name?\", context=context)\n",
    "print(f\"Answer: '{result['answer']}', score: {round(result['score'], 4)}, start: {result['start']}, end: {result['end']}\")"
   ]
  }
 ],
 "metadata": {
  "language_info": {
   "name": "python"
  },
  "orig_nbformat": 4
 },
 "nbformat": 4,
 "nbformat_minor": 2
}
